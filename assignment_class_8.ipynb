{
  "nbformat": 4,
  "nbformat_minor": 0,
  "metadata": {
    "colab": {
      "provenance": [],
      "authorship_tag": "ABX9TyOHDYp6rmGOF5tmyXoT2qhr",
      "include_colab_link": true
    },
    "kernelspec": {
      "name": "python3",
      "display_name": "Python 3"
    },
    "language_info": {
      "name": "python"
    }
  },
  "cells": [
    {
      "cell_type": "markdown",
      "metadata": {
        "id": "view-in-github",
        "colab_type": "text"
      },
      "source": [
        "<a href=\"https://colab.research.google.com/github/ronald-cedeno/demo-104/blob/main/assignment_class_8.ipynb\" target=\"_parent\"><img src=\"https://colab.research.google.com/assets/colab-badge.svg\" alt=\"Open In Colab\"/></a>"
      ]
    },
    {
      "cell_type": "markdown",
      "source": [
        "# Assignment Class 8"
      ],
      "metadata": {
        "id": "NmEJZJmIajxb"
      }
    },
    {
      "cell_type": "markdown",
      "source": [
        "You have  a list of integers. Write a function in python to return the frequency of each number in the list.\n",
        "\n",
        "numbers = [10,40,50,14,40,10]\n",
        "\n",
        "What will be your return type?"
      ],
      "metadata": {
        "id": "ifKOJwWuagTB"
      }
    },
    {
      "cell_type": "code",
      "source": [
        "def numberFrequency(numbers):\n",
        "    frequency = {}\n",
        "    for num in numbers:\n",
        "        if num in frequency:\n",
        "            frequency[num] += 1\n",
        "        else:\n",
        "            frequency[num] = 1\n",
        "    return frequency"
      ],
      "metadata": {
        "id": "SVOzw8Y1QlWW"
      },
      "execution_count": 3,
      "outputs": []
    },
    {
      "cell_type": "code",
      "source": [
        "numbers = [10, 40, 50, 14, 40, 10]\n",
        "frequency = numberFrequency(numbers)\n",
        "print(frequency)"
      ],
      "metadata": {
        "colab": {
          "base_uri": "https://localhost:8080/"
        },
        "id": "hVJKoN5saq1H",
        "outputId": "9a37abb6-64d7-445d-8c0f-40403451406c"
      },
      "execution_count": 4,
      "outputs": [
        {
          "output_type": "stream",
          "name": "stdout",
          "text": [
            "{10: 2, 40: 2, 50: 1, 14: 1}\n"
          ]
        }
      ]
    },
    {
      "cell_type": "code",
      "source": [
        "def findFrequency(numbers, n_number):\n",
        "    count = 0\n",
        "    for num in numbers:\n",
        "        if num == n_number:\n",
        "            count += 1\n",
        "    return count"
      ],
      "metadata": {
        "id": "-OVVyNlEat2y"
      },
      "execution_count": 5,
      "outputs": []
    },
    {
      "cell_type": "code",
      "source": [
        "n_number = 10\n",
        "frequencyFound = findFrequency(numbers, n_number)\n",
        "print(frequencyFound)"
      ],
      "metadata": {
        "colab": {
          "base_uri": "https://localhost:8080/"
        },
        "id": "npZh7RW7dP_q",
        "outputId": "1fb3021c-5ccd-41ed-f650-ef56a5400ca9"
      },
      "execution_count": 6,
      "outputs": [
        {
          "output_type": "stream",
          "name": "stdout",
          "text": [
            "2\n"
          ]
        }
      ]
    },
    {
      "cell_type": "code",
      "source": [],
      "metadata": {
        "id": "fwEO4NwAdh1l"
      },
      "execution_count": null,
      "outputs": []
    }
  ]
}