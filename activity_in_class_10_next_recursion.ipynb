{
  "nbformat": 4,
  "nbformat_minor": 0,
  "metadata": {
    "colab": {
      "provenance": [],
      "authorship_tag": "ABX9TyMQApmfi4bfF0MX37pqZWOi",
      "include_colab_link": true
    },
    "kernelspec": {
      "name": "python3",
      "display_name": "Python 3"
    },
    "language_info": {
      "name": "python"
    }
  },
  "cells": [
    {
      "cell_type": "markdown",
      "metadata": {
        "id": "view-in-github",
        "colab_type": "text"
      },
      "source": [
        "<a href=\"https://colab.research.google.com/github/ronald-cedeno/demo-104/blob/main/activity_in_class_10_next_recursion.ipynb\" target=\"_parent\"><img src=\"https://colab.research.google.com/assets/colab-badge.svg\" alt=\"Open In Colab\"/></a>"
      ]
    },
    {
      "cell_type": "code",
      "execution_count": 14,
      "metadata": {
        "id": "-ZICLuvKKoRS"
      },
      "outputs": [],
      "source": [
        "def printNext10NumbersWithRecursion(n, limit=None):\n",
        "    if limit is None:\n",
        "        limit = n + 10\n",
        "\n",
        "    if n < limit:\n",
        "        print(n + 1)\n",
        "        printNext10NumbersWithRecursion(n + 1, limit)"
      ]
    },
    {
      "cell_type": "code",
      "source": [
        "printNext10NumbersWithRecursion(5)"
      ],
      "metadata": {
        "colab": {
          "base_uri": "https://localhost:8080/"
        },
        "id": "GPBcU4hNLW-z",
        "outputId": "04f54f00-d518-48b4-a3fb-8e571bd5b301"
      },
      "execution_count": 15,
      "outputs": [
        {
          "output_type": "stream",
          "name": "stdout",
          "text": [
            "6\n",
            "7\n",
            "8\n",
            "9\n",
            "10\n",
            "11\n",
            "12\n",
            "13\n",
            "14\n",
            "15\n"
          ]
        }
      ]
    },
    {
      "cell_type": "code",
      "source": [],
      "metadata": {
        "id": "EyaGNisOLOc9"
      },
      "execution_count": null,
      "outputs": []
    }
  ]
}