{
  "nbformat": 4,
  "nbformat_minor": 0,
  "metadata": {
    "colab": {
      "provenance": [],
      "authorship_tag": "ABX9TyOkU7okXaALbyDpDXptPomM",
      "include_colab_link": true
    },
    "kernelspec": {
      "name": "python3",
      "display_name": "Python 3"
    },
    "language_info": {
      "name": "python"
    }
  },
  "cells": [
    {
      "cell_type": "markdown",
      "metadata": {
        "id": "view-in-github",
        "colab_type": "text"
      },
      "source": [
        "<a href=\"https://colab.research.google.com/github/ronald-cedeno/demo-104/blob/main/activity_module_1.ipynb\" target=\"_parent\"><img src=\"https://colab.research.google.com/assets/colab-badge.svg\" alt=\"Open In Colab\"/></a>"
      ]
    },
    {
      "cell_type": "code",
      "execution_count": 8,
      "metadata": {
        "colab": {
          "base_uri": "https://localhost:8080/"
        },
        "id": "tApUr9MS-EdR",
        "outputId": "ea2a01da-d3a1-4b6f-811c-d2123616a6d9"
      },
      "outputs": [
        {
          "output_type": "stream",
          "name": "stdout",
          "text": [
            "Enter your name: Ronald\n",
            "Enter your country: Ecuador\n",
            "Enter your school: CCTB\n",
            "Enter the location of your school: Vancouver\n",
            "My name is Ronald from Ecuador studying at CCTB in Vancouver\n"
          ]
        }
      ],
      "source": [
        "name = input('Enter your name: ')\n",
        "country = input('Enter your country: ')\n",
        "school = input('Enter your school: ')\n",
        "school_location = input('Enter the location of your school: ')\n",
        "\n",
        "print('My name is', name, 'from', country, 'studying at', school, 'in', school_location)"
      ]
    }
  ]
}