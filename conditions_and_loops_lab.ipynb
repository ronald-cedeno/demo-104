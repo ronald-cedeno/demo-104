{
  "nbformat": 4,
  "nbformat_minor": 0,
  "metadata": {
    "colab": {
      "provenance": [],
      "authorship_tag": "ABX9TyPvX747wo65s7MBmQEZPM76",
      "include_colab_link": true
    },
    "kernelspec": {
      "name": "python3",
      "display_name": "Python 3"
    },
    "language_info": {
      "name": "python"
    }
  },
  "cells": [
    {
      "cell_type": "markdown",
      "metadata": {
        "id": "view-in-github",
        "colab_type": "text"
      },
      "source": [
        "<a href=\"https://colab.research.google.com/github/ronald-cedeno/demo-104/blob/main/conditions_and_loops_lab.ipynb\" target=\"_parent\"><img src=\"https://colab.research.google.com/assets/colab-badge.svg\" alt=\"Open In Colab\"/></a>"
      ]
    },
    {
      "cell_type": "markdown",
      "source": [
        "**Lab 1 - Conditions and Branching**\n"
      ],
      "metadata": {
        "id": "bwuKC3c50_y4"
      }
    },
    {
      "cell_type": "markdown",
      "source": [
        "##### 1. There are 2 sisters, Annie and Jane, born in 1996 and 1999 respectively. They want to know who was born in a leap year. Write an if-else statement to determine who was born in a leap year."
      ],
      "metadata": {
        "id": "O6VvRKGl1MiO"
      }
    },
    {
      "cell_type": "code",
      "execution_count": 12,
      "metadata": {
        "colab": {
          "base_uri": "https://localhost:8080/"
        },
        "id": "pIf2senOzR9n",
        "outputId": "e9fd3e88-a3b2-4a38-c576-52c3592bf05a"
      },
      "outputs": [
        {
          "output_type": "stream",
          "name": "stdout",
          "text": [
            "Annie was born in a leap year.\n"
          ]
        }
      ],
      "source": [
        "annie_year = 1996\n",
        "jane_year = 1999\n",
        "\n",
        "if (annie_year % 4 == 0 and annie_year % 100 != 0) or (annie_year % 400 == 0):\n",
        "    if (jane_year % 4 == 0 and jane_year % 100 != 0) or (jane_year % 400 == 0):\n",
        "        print(\"Both Annie and Jane were born in a leap year.\")\n",
        "    else:\n",
        "        print(\"Annie was born in a leap year.\")\n",
        "elif (jane_year % 4 == 0 and jane_year % 100 != 0) or (jane_year % 400 == 0):\n",
        "    print(\"Jane was born in a leap year.\")\n",
        "else:\n",
        "    print(\"Neither Annie nor Jane was born in a leap year.\")"
      ]
    },
    {
      "cell_type": "markdown",
      "source": [
        "2. In a school canteen, children under the age of 9 are only given milk porridge for breakfast. Children from 10 to 14 are given a sandwich, and children from 15 to 17 are given a burger. The canteen master asks the age of the student and gives them breakfast accordingly. Sam's age is 10. Use if-else statement to determine what the canteen master will offer to him."
      ],
      "metadata": {
        "id": "-VJMPGzW4BVr"
      }
    },
    {
      "cell_type": "code",
      "source": [
        "sam_age = 10\n",
        "\n",
        "if sam_age < 9:\n",
        "    print(\"Milk porridge\")\n",
        "elif 10 <= sam_age <= 14:\n",
        "    print(\"Sandwich\")\n",
        "elif 15 <= sam_age <= 17:\n",
        "    print(\"Burger\")\n",
        "else:\n",
        "    print(\"No breakfast available\")"
      ],
      "metadata": {
        "colab": {
          "base_uri": "https://localhost:8080/"
        },
        "id": "HPqROGeX3-kp",
        "outputId": "a0972a49-0075-4ee5-cb9a-99ead2bf0284"
      },
      "execution_count": 13,
      "outputs": [
        {
          "output_type": "stream",
          "name": "stdout",
          "text": [
            "Sandwich\n"
          ]
        }
      ]
    },
    {
      "cell_type": "markdown",
      "source": [
        "**Lab - Loops**"
      ],
      "metadata": {
        "id": "8jctQZP94sjj"
      }
    },
    {
      "cell_type": "markdown",
      "source": [
        "1. Write a for loop the prints out all the element between -5 and 5 using the range function."
      ],
      "metadata": {
        "id": "vbCYwnsV4vsO"
      }
    },
    {
      "cell_type": "code",
      "source": [
        "for i in range(-5, 6):\n",
        "    print(i)"
      ],
      "metadata": {
        "colab": {
          "base_uri": "https://localhost:8080/"
        },
        "id": "Ejmdkvd74hfx",
        "outputId": "a4c6c4c9-6b7a-4299-9e9f-d957b17676cc"
      },
      "execution_count": 14,
      "outputs": [
        {
          "output_type": "stream",
          "name": "stdout",
          "text": [
            "-5\n",
            "-4\n",
            "-3\n",
            "-2\n",
            "-1\n",
            "0\n",
            "1\n",
            "2\n",
            "3\n",
            "4\n",
            "5\n"
          ]
        }
      ]
    },
    {
      "cell_type": "markdown",
      "source": [
        "2. Print the elements of the following list:\n",
        "<code>Genres=[ 'rock', 'R&B', 'Soundtrack', 'R&B', 'soul', 'pop']</code>\n",
        "Make sure you follow Python conventions."
      ],
      "metadata": {
        "id": "PDx40k9j5O9-"
      }
    },
    {
      "cell_type": "code",
      "source": [
        "Genres = ['rock', 'R&B', 'Soundtrack', 'R&B', 'soul', 'pop']\n",
        "\n",
        "for genre in Genres:\n",
        "    print(genre)"
      ],
      "metadata": {
        "colab": {
          "base_uri": "https://localhost:8080/"
        },
        "id": "nXPVX6655BIC",
        "outputId": "780646f0-7bf4-4e2b-a293-0ef557fee74d"
      },
      "execution_count": 15,
      "outputs": [
        {
          "output_type": "stream",
          "name": "stdout",
          "text": [
            "rock\n",
            "R&B\n",
            "Soundtrack\n",
            "R&B\n",
            "soul\n",
            "pop\n"
          ]
        }
      ]
    },
    {
      "cell_type": "markdown",
      "source": [
        "3. Write a for loop that prints out the following list: <code>squares=['red', 'yellow', 'green', 'purple', 'blue']</code>"
      ],
      "metadata": {
        "id": "hU_jGyPf5WQM"
      }
    },
    {
      "cell_type": "code",
      "source": [
        "squares = ['red', 'yellow', 'green', 'purple', 'blue']\n",
        "\n",
        "for square in squares:\n",
        "    print(square)"
      ],
      "metadata": {
        "colab": {
          "base_uri": "https://localhost:8080/"
        },
        "id": "nobCkVcD5TDX",
        "outputId": "5e4e4553-0fa5-4b04-e941-33f196e02162"
      },
      "execution_count": 16,
      "outputs": [
        {
          "output_type": "stream",
          "name": "stdout",
          "text": [
            "red\n",
            "yellow\n",
            "green\n",
            "purple\n",
            "blue\n"
          ]
        }
      ]
    },
    {
      "cell_type": "markdown",
      "source": [
        "4. Write a while loop to display the values of the Rating of an album playlist stored in the list <code>PlayListRatings</code>. If the score is less than 6, exit the loop. The list <code>PlayListRatings</code> is given by: <code>PlayListRatings = [10, 9.5, 10, 8, 7.5, 5, 10, 10]</code>"
      ],
      "metadata": {
        "id": "daUxY17K5y0z"
      }
    },
    {
      "cell_type": "code",
      "source": [
        "PlayListRatings = [10, 9.5, 10, 8, 7.5, 5, 10, 10]\n",
        "\n",
        "i = 0\n",
        "while i < len(PlayListRatings):\n",
        "    if PlayListRatings[i] < 6:\n",
        "        break\n",
        "    print(PlayListRatings[i])\n",
        "    i += 1"
      ],
      "metadata": {
        "colab": {
          "base_uri": "https://localhost:8080/"
        },
        "id": "zA1gb-XG5ZSW",
        "outputId": "5deecf93-7444-48bd-a1e5-e86cbfafb649"
      },
      "execution_count": 17,
      "outputs": [
        {
          "output_type": "stream",
          "name": "stdout",
          "text": [
            "10\n",
            "9.5\n",
            "10\n",
            "8\n",
            "7.5\n"
          ]
        }
      ]
    },
    {
      "cell_type": "markdown",
      "source": [
        "5. Write a while loop to copy the strings <code>'orange'</code> of the list <code>squares</code> to the list <code>new_squares</code>. Stop and exit the loop if the value on the list is not <code>'orange'</code>:"
      ],
      "metadata": {
        "id": "qcG0mIJv561r"
      }
    },
    {
      "cell_type": "code",
      "source": [
        "squares = ['orange', 'orange', 'purple', 'orange', 'blue']\n",
        "new_squares = []\n",
        "\n",
        "i = 0\n",
        "while i < len(squares):\n",
        "    if squares[i] != 'orange':\n",
        "        break\n",
        "    new_squares.append(squares[i])\n",
        "    i += 1\n",
        "\n",
        "print(new_squares)"
      ],
      "metadata": {
        "colab": {
          "base_uri": "https://localhost:8080/"
        },
        "id": "Ts9G-UwC5wbz",
        "outputId": "920e47bb-7815-4aae-8f05-8cd9116ec39b"
      },
      "execution_count": 18,
      "outputs": [
        {
          "output_type": "stream",
          "name": "stdout",
          "text": [
            "['orange', 'orange']\n"
          ]
        }
      ]
    },
    {
      "cell_type": "markdown",
      "source": [
        "6. Your little brother has just learned multiplication tables in school. Today he has learned tables of 6 and 7. Help him memorise both the tables by printing them using <code>for</code> loop."
      ],
      "metadata": {
        "id": "JEdV4X7v6ppA"
      }
    },
    {
      "cell_type": "code",
      "source": [
        "print(\"Multiplication Table of 6:\")\n",
        "for i in range(1, 11):\n",
        "    print(f\"6 x {i} = {6 * i}\")\n",
        "\n",
        "print(\"\\nMultiplication Table of 7:\")\n",
        "for i in range(1, 11):\n",
        "    print(f\"7 x {i} = {7 * i}\")"
      ],
      "metadata": {
        "colab": {
          "base_uri": "https://localhost:8080/"
        },
        "id": "f6Qhf6oI6KF9",
        "outputId": "0ef8abea-7932-46a9-bd9f-53933f901b48"
      },
      "execution_count": 19,
      "outputs": [
        {
          "output_type": "stream",
          "name": "stdout",
          "text": [
            "Multiplication Table of 6:\n",
            "6 x 1 = 6\n",
            "6 x 2 = 12\n",
            "6 x 3 = 18\n",
            "6 x 4 = 24\n",
            "6 x 5 = 30\n",
            "6 x 6 = 36\n",
            "6 x 7 = 42\n",
            "6 x 8 = 48\n",
            "6 x 9 = 54\n",
            "6 x 10 = 60\n",
            "\n",
            "Multiplication Table of 7:\n",
            "7 x 1 = 7\n",
            "7 x 2 = 14\n",
            "7 x 3 = 21\n",
            "7 x 4 = 28\n",
            "7 x 5 = 35\n",
            "7 x 6 = 42\n",
            "7 x 7 = 49\n",
            "7 x 8 = 56\n",
            "7 x 9 = 63\n",
            "7 x 10 = 70\n"
          ]
        }
      ]
    },
    {
      "cell_type": "markdown",
      "source": [
        "7. The following is a list of animals in a National Zoo.\n",
        "<code>Animals = [\"lion\", \"giraffe\", \"gorilla\", \"parrots\", \"crocodile\",\"deer\", \"swan\"]</code>\n",
        "\n",
        "Your brother needs to write an essay on the animals whose names are made of 7 letters. Help him find those animals through a <code>while</code> loop and create a separate list of such animals."
      ],
      "metadata": {
        "id": "y6mTBsis6wLR"
      }
    },
    {
      "cell_type": "code",
      "source": [
        "Animals = [\"lion\", \"giraffe\", \"gorilla\", \"parrots\", \"crocodile\", \"deer\", \"swan\"]\n",
        "animals_with_7_letters = []\n",
        "\n",
        "i = 0\n",
        "while i < len(Animals):\n",
        "    if len(Animals[i]) == 7:\n",
        "        animals_with_7_letters.append(Animals[i])\n",
        "    i += 1\n",
        "\n",
        "print(animals_with_7_letters)"
      ],
      "metadata": {
        "colab": {
          "base_uri": "https://localhost:8080/"
        },
        "id": "Swv2NHT56Uu4",
        "outputId": "b663eacf-233c-45a5-bf83-a3e7779dff5d"
      },
      "execution_count": 20,
      "outputs": [
        {
          "output_type": "stream",
          "name": "stdout",
          "text": [
            "['giraffe', 'gorilla', 'parrots']\n"
          ]
        }
      ]
    },
    {
      "cell_type": "code",
      "source": [],
      "metadata": {
        "id": "cDX2h8Nf63tb"
      },
      "execution_count": 20,
      "outputs": []
    }
  ]
}