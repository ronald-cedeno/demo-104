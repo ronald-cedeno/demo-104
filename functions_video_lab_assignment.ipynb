{
  "nbformat": 4,
  "nbformat_minor": 0,
  "metadata": {
    "colab": {
      "provenance": [],
      "authorship_tag": "ABX9TyMp139GpKl5WIwySKfGdD7m",
      "include_colab_link": true
    },
    "kernelspec": {
      "name": "python3",
      "display_name": "Python 3"
    },
    "language_info": {
      "name": "python"
    }
  },
  "cells": [
    {
      "cell_type": "markdown",
      "metadata": {
        "id": "view-in-github",
        "colab_type": "text"
      },
      "source": [
        "<a href=\"https://colab.research.google.com/github/ronald-cedeno/demo-104/blob/main/functions_video_lab_assignment.ipynb\" target=\"_parent\"><img src=\"https://colab.research.google.com/assets/colab-badge.svg\" alt=\"Open In Colab\"/></a>"
      ]
    },
    {
      "cell_type": "markdown",
      "source": [
        "<h2>Functions</h2>"
      ],
      "metadata": {
        "id": "Qlign9HQEU-t"
      }
    },
    {
      "cell_type": "markdown",
      "source": [
        "Complete the function <code> f </code> so that it returns the product of <code>a</code> and <code>b</code>. Use the next cell to test the function."
      ],
      "metadata": {
        "id": "w9-iT8PWEZvj"
      }
    },
    {
      "cell_type": "code",
      "source": [
        "def f(a,b):\n",
        "    return a*b"
      ],
      "metadata": {
        "id": "31owXLU5EZfx"
      },
      "execution_count": 1,
      "outputs": []
    },
    {
      "cell_type": "markdown",
      "source": [
        "Test the function using the next cell:"
      ],
      "metadata": {
        "id": "ibEcDhszEfxc"
      }
    },
    {
      "cell_type": "code",
      "execution_count": 2,
      "metadata": {
        "colab": {
          "base_uri": "https://localhost:8080/"
        },
        "id": "FixESuXA9j8a",
        "outputId": "1b184659-47cc-415c-b3ed-5ab1f0608936"
      },
      "outputs": [
        {
          "output_type": "stream",
          "name": "stdout",
          "text": [
            "Correct.\n"
          ]
        }
      ],
      "source": [
        "a=4\n",
        "b=2\n",
        "\n",
        "if a*b==f(a,b):\n",
        "    print(\"Correct.\")\n",
        "else:\n",
        "    print(\"Incorrect.\")"
      ]
    },
    {
      "cell_type": "markdown",
      "source": [
        "Complete the function <code>g</code> such that the input <code>c</code> is a list of integers and the output is the sum of all the elements in the list."
      ],
      "metadata": {
        "id": "nGmPIYyGEjtS"
      }
    },
    {
      "cell_type": "code",
      "source": [
        "def g(c):\n",
        "    return sum(c)"
      ],
      "metadata": {
        "id": "h0yH7yoaEhbx"
      },
      "execution_count": 3,
      "outputs": []
    },
    {
      "cell_type": "markdown",
      "source": [
        "Test the function using the next cell:"
      ],
      "metadata": {
        "id": "F6_x7nBjEuEZ"
      }
    },
    {
      "cell_type": "code",
      "source": [
        "c=[1,2,3,4,5]\n",
        "\n",
        "if sum(c)==g(c):\n",
        "    print(\"Correct.\")\n",
        "else:\n",
        "    print(\"Incorrect.\")"
      ],
      "metadata": {
        "colab": {
          "base_uri": "https://localhost:8080/"
        },
        "id": "y3YTEbLGEonl",
        "outputId": "051fcc6f-0594-4253-c449-7bd24971aa76"
      },
      "execution_count": 4,
      "outputs": [
        {
          "output_type": "stream",
          "name": "stdout",
          "text": [
            "Correct.\n"
          ]
        }
      ]
    },
    {
      "cell_type": "markdown",
      "source": [
        "<h2>Quiz on Functions</h2>"
      ],
      "metadata": {
        "id": "8qmd9S6hE2ME"
      }
    },
    {
      "cell_type": "markdown",
      "source": [
        "Come up with a function that divides the first input by the second input:\n"
      ],
      "metadata": {
        "id": "oH1sfpEBE800"
      }
    },
    {
      "cell_type": "code",
      "source": [
        "def division(a, b):\n",
        "    return(a/b)"
      ],
      "metadata": {
        "id": "L043GGEkEwOe"
      },
      "execution_count": 5,
      "outputs": []
    },
    {
      "cell_type": "markdown",
      "source": [
        "Use the function <code>con</code> for the following question."
      ],
      "metadata": {
        "id": "B8hz7c__FBS0"
      }
    },
    {
      "cell_type": "code",
      "source": [
        "def con(a, b):\n",
        "    return(a + b)"
      ],
      "metadata": {
        "id": "a8r0PWjdE_Xn"
      },
      "execution_count": 6,
      "outputs": []
    },
    {
      "cell_type": "markdown",
      "source": [
        "Can the <code>con</code> function we defined before be used to add two integers or strings?"
      ],
      "metadata": {
        "id": "1nPsLCgMFJr1"
      }
    },
    {
      "cell_type": "code",
      "source": [
        "integers_result = con(2, 2)\n",
        "string_result = con('a', 'b')\n",
        "print(integers_result)\n",
        "print(string_result)\n",
        "print('Yes, it works with integers or strings')"
      ],
      "metadata": {
        "colab": {
          "base_uri": "https://localhost:8080/"
        },
        "id": "itOOx7haFFDV",
        "outputId": "d36f3563-603c-4632-9d18-aeba1bebe59e"
      },
      "execution_count": 11,
      "outputs": [
        {
          "output_type": "stream",
          "name": "stdout",
          "text": [
            "4\n",
            "ab\n",
            "Yes, it works with integers or strings\n"
          ]
        }
      ]
    },
    {
      "cell_type": "markdown",
      "source": [
        "Can the <code>con</code> function we defined before be used to concatenate lists or tuples?"
      ],
      "metadata": {
        "id": "n23Ep_hsFkrx"
      }
    },
    {
      "cell_type": "code",
      "source": [
        "con(['a', 1], ['b', 1])\n",
        "print('Yes, it works to concatenate lists or tuples')"
      ],
      "metadata": {
        "colab": {
          "base_uri": "https://localhost:8080/"
        },
        "id": "ljGcbbpZFPiX",
        "outputId": "4c1663d5-3a5f-4648-8f2d-20658708e0bb"
      },
      "execution_count": 13,
      "outputs": [
        {
          "output_type": "stream",
          "name": "stdout",
          "text": [
            "Yes, it works to concatenate lists or tuples\n"
          ]
        }
      ]
    },
    {
      "cell_type": "markdown",
      "source": [
        "Write a function code to find total count of word `little` in the given string:\n",
        "`\"Mary had a little lamb Little lamb, little lamb Mary had a little lamb.Its fleece was white as snow And everywhere that Mary went Mary went, Mary went Everywhere that Mary went The lamb was sure to go\"**`"
      ],
      "metadata": {
        "id": "_kfy6UtFFuKr"
      }
    },
    {
      "cell_type": "code",
      "source": [
        "def total_count(string, word):\n",
        "    count = string.split().count(word)\n",
        "    print(f\"Total Count: {{'{word}': {count}}}\")\n",
        "\n",
        "total_count(\n",
        "    \"Mary had a little lamb Little lamb, little lamb Mary had a little lamb.Its fleece was white as snow And everywhere that Mary went Mary went, Mary went \\\n",
        "Everywhere that Mary went The lamb was sure to go\",\n",
        "    \"little\"\n",
        ")"
      ],
      "metadata": {
        "colab": {
          "base_uri": "https://localhost:8080/"
        },
        "id": "g493JWXzGjVZ",
        "outputId": "09c22ad3-d50c-404d-ac81-930b05836c90"
      },
      "execution_count": 19,
      "outputs": [
        {
          "output_type": "stream",
          "name": "stdout",
          "text": [
            "Total Count: {'little': 3}\n"
          ]
        }
      ]
    },
    {
      "cell_type": "code",
      "source": [],
      "metadata": {
        "id": "0UMEgaA6GDHz"
      },
      "execution_count": null,
      "outputs": []
    }
  ]
}